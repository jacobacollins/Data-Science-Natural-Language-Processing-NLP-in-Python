{
 "cells": [
  {
   "cell_type": "code",
   "execution_count": 24,
   "metadata": {},
   "outputs": [],
   "source": [
    "import string\n",
    "import random\n",
    "import numpy as np\n",
    "import os\n",
    "import requests\n",
    "import re"
   ]
  },
  {
   "cell_type": "code",
   "execution_count": 25,
   "metadata": {},
   "outputs": [],
   "source": [
    "alphabet = list(string.ascii_lowercase)\n",
    "key = list(string.ascii_lowercase)\n",
    "\n",
    "mapPair = {}\n",
    "\n",
    "random.shuffle(key)\n",
    "\n",
    "for key, value in zip(alphabet, key):\n",
    "    mapPair[key] = value"
   ]
  },
  {
   "cell_type": "code",
   "execution_count": 26,
   "metadata": {},
   "outputs": [],
   "source": [
    "probMatrix = np.ones((26,26))\n",
    "\n",
    "pi = np.zeros(26)\n",
    "\n",
    "def update_transition(char1, char2):\n",
    "    i = ord(char1) - 97\n",
    "    j = ord(char2) - 97\n",
    "    M[i,j] += 1\n",
    "    \n",
    "def update_pi(char1):\n",
    "    i = ord(char1)\n",
    "    pi[i] += 1 \n",
    "    \n",
    "def get_word_prob(word):\n",
    "    i = ord(word[0] - 97)\n",
    "    logp = np.log(pi[i])\n",
    "    \n",
    "    for ch in word[1:]:\n",
    "        j = ord(ch) - 97\n",
    "        logp += np.log(M[i,j])\n",
    "        i = j\n",
    "        \n",
    "    return logp\n",
    "\n",
    "def get_sequence_of_words(words):\n",
    "    \n",
    "    if type(words) == str:\n",
    "        words = words.split()\n",
    "        \n",
    "    logp = 0\n",
    "    for word in words:\n",
    "        logp += get_word_prob(word)\n",
    "    return logp"
   ]
  },
  {
   "cell_type": "code",
   "execution_count": 27,
   "metadata": {},
   "outputs": [],
   "source": [
    "if not os.path.exists('moby_dick.txt'):\n",
    "    print('No file exists, presently downloading...')\n",
    "    r = requests.get('https://lazyprogrammer.me/course_files/moby_dick.txt')\n",
    "    with open('moby_dick.txt', 'w', encoding='utf-8') as f:\n",
    "        f.write(r.content.decode())"
   ]
  },
  {
   "cell_type": "markdown",
   "metadata": {},
   "source": [
    "# preprocess data "
   ]
  },
  {
   "cell_type": "code",
   "execution_count": 33,
   "metadata": {},
   "outputs": [],
   "source": [
    "regex = re.compile('[^a-zA-Z]')\n",
    "\n",
    "for line in open('moby_dick.txt'):\n",
    "    \n",
    "    line=line.rstrip()\n",
    "    \n",
    "    if line:\n",
    "        line = regex.sub(' ', line)\n",
    "        \n",
    "    tokens = line.lower().split()\n",
    "    \n",
    "    for token in tokens:\n",
    " \n",
    "       ch0 = token[0]\n",
    "       update_pi(ch0)\n",
    "       \n",
    "       for ch1 in token[1:]:\n",
    "        update_transition(ch0, ch1)\n",
    "        ch0=ch1\n",
    "        \n",
    "pi /= pi.sum()\n",
    "probMatrix /= probMatrix.sum(axis=1, keepdims=True)"
   ]
  },
  {
   "cell_type": "code",
   "execution_count": null,
   "metadata": {},
   "outputs": [],
   "source": []
  }
 ],
 "metadata": {
  "kernelspec": {
   "display_name": "Python 3",
   "language": "python",
   "name": "python3"
  },
  "language_info": {
   "codemirror_mode": {
    "name": "ipython",
    "version": 3
   },
   "file_extension": ".py",
   "mimetype": "text/x-python",
   "name": "python",
   "nbconvert_exporter": "python",
   "pygments_lexer": "ipython3",
   "version": "3.8.5"
  }
 },
 "nbformat": 4,
 "nbformat_minor": 4
}
