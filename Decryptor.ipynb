{
 "cells": [
  {
   "cell_type": "code",
   "execution_count": 46,
   "metadata": {},
   "outputs": [],
   "source": [
    "import string\n",
    "import random\n",
    "import numpy as np\n",
    "import matplotlib.pyplot as plt\n",
    "\n",
    "import os\n",
    "import requests\n",
    "import re\n",
    "import textwrap"
   ]
  },
  {
   "cell_type": "code",
   "execution_count": 25,
   "metadata": {},
   "outputs": [],
   "source": [
    "letters1 = list(string.ascii_lowercase)\n",
    "letters2 = list(string.ascii_lowercase)\n",
    "\n",
    "mapPair = {}\n",
    "\n",
    "random.shuffle(letters2)\n",
    "\n",
    "for key, value in zip(letters1, letters2):\n",
    "    mapPair[key] = value"
   ]
  },
  {
   "cell_type": "code",
   "execution_count": 32,
   "metadata": {},
   "outputs": [],
   "source": [
    "probMatrix = np.ones((26,26))\n",
    "\n",
    "pi = np.zeros(26)\n",
    "\n",
    "def update_transition(char1, char2):\n",
    "    i = ord(char1) - 97\n",
    "    j = ord(char2) - 97\n",
    "    probMatrix[i,j] += 1\n",
    "    \n",
    "def update_pi(char1):\n",
    "    i = ord(char1) -97\n",
    "    pi[i] += 1 \n",
    "    \n",
    "def get_word_prob(word):\n",
    "    i = ord(word[0]) - 97\n",
    "    logp = np.log(pi[i])\n",
    "    \n",
    "    for ch in word[1:]:\n",
    "        j = ord(ch) - 97\n",
    "        logp += np.log(M[i,j])\n",
    "        i = j\n",
    "        \n",
    "    return logp\n",
    "\n",
    "def get_sequence_prob(words):\n",
    "    \n",
    "    if type(words) == str:\n",
    "        words = words.split()\n",
    "        \n",
    "    logp = 0\n",
    "    for word in words:\n",
    "        logp += get_word_prob(word)\n",
    "    return logp"
   ]
  },
  {
   "cell_type": "code",
   "execution_count": 33,
   "metadata": {},
   "outputs": [],
   "source": [
    "if not os.path.exists('moby_dick.txt'):\n",
    "    print(\"Downloading moby dick...\")\n",
    "    r = requests.get('https://lazyprogrammer.me/course_files/moby_dick.txt')\n",
    "    with open('moby_dick.txt', 'w', encoding=\"utf-8\") as f:\n",
    "        f.write(r.content.decode())"
   ]
  },
  {
   "cell_type": "markdown",
   "metadata": {},
   "source": [
    "# preprocess data "
   ]
  },
  {
   "cell_type": "code",
   "execution_count": 34,
   "metadata": {},
   "outputs": [],
   "source": [
    "regex = re.compile('[^a-zA-Z]')\n",
    "\n",
    "for line in open('moby_dick.txt', encoding=\"utf-8\"):\n",
    "    \n",
    "    line=line.rstrip()\n",
    "    \n",
    "    if line:\n",
    "        line = regex.sub(' ', line)\n",
    "        \n",
    "    tokens = line.lower().split()\n",
    "    \n",
    "    for token in tokens:\n",
    " \n",
    "       ch0 = token[0]\n",
    "       update_pi(ch0)\n",
    "       \n",
    "       for ch1 in token[1:]:\n",
    "        update_transition(ch0, ch1)\n",
    "        ch0=ch1\n",
    "        \n",
    "pi /= pi.sum()\n",
    "probMatrix /= probMatrix.sum(axis=1, keepdims=True)"
   ]
  },
  {
   "cell_type": "code",
   "execution_count": 35,
   "metadata": {},
   "outputs": [],
   "source": [
    "### encode a message\n",
    "\n",
    "# this is a random excerpt from Project Gutenberg's\n",
    "# The Adventures of Sherlock Holmes, by Arthur Conan Doyle\n",
    "# https://www.gutenberg.org/ebooks/1661\n",
    "\n",
    "original_message = '''I then lounged down the street and found,\n",
    "as I expected, that there was a mews in a lane which runs down\n",
    "by one wall of the garden. I lent the ostlers a hand in rubbing\n",
    "down their horses, and received in exchange twopence, a glass of\n",
    "half-and-half, two fills of shag tobacco, and as much information\n",
    "as I could desire about Miss Adler, to say nothing of half a dozen\n",
    "other people in the neighbourhood in whom I was not in the least\n",
    "interested, but whose biographies I was compelled to listen to.\n",
    "'''\n",
    "\n",
    "# Away they went, and I was just wondering whether I should not do well\n",
    "# to follow them when up the lane came a neat little landau, the coachman\n",
    "# with his coat only half-buttoned, and his tie under his ear, while all\n",
    "# the tags of his harness were sticking out of the buckles. It hadn't\n",
    "# pulled up before she shot out of the hall door and into it. I only\n",
    "# caught a glimpse of her at the moment, but she was a lovely woman, with\n",
    "# a face that a man might die for.\n",
    "\n",
    "# My cabby drove fast. I don't think I ever drove faster, but the others\n",
    "# were there before us. The cab and the landau with their steaming horses\n",
    "# were in front of the door when I arrived. I paid the man and hurried\n",
    "# into the church. There was not a soul there save the two whom I had\n",
    "# followed and a surpliced clergyman, who seemed to be expostulating with\n",
    "# them. They were all three standing in a knot in front of the altar. I\n",
    "# lounged up the side aisle like any other idler who has dropped into a\n",
    "# church. Suddenly, to my surprise, the three at the altar faced round to\n",
    "# me, and Godfrey Norton came running as hard as he could towards me."
   ]
  },
  {
   "cell_type": "code",
   "execution_count": 39,
   "metadata": {},
   "outputs": [
    {
     "name": "stdout",
     "output_type": "stream",
     "text": [
      "iter: 0 score: -387.466458444841 best so far: -321.0903202607339\n",
      "iter: 200 score: -272.6934199085292 best so far: -257.0690027786224\n",
      "iter: 400 score: -265.7575190248581 best so far: -257.0690027786224\n",
      "iter: 600 score: -261.8297825047158 best so far: -256.9712581843353\n",
      "iter: 800 score: -261.37780986420887 best so far: -256.9712581843353\n"
     ]
    }
   ],
   "source": [
    "def encode_message(msg):\n",
    "    \n",
    "    msg = msg.lower()\n",
    "    \n",
    "    msg = regex.sub(' ', msg)\n",
    "    \n",
    "    coded_msg = []\n",
    "    for ch in msg:\n",
    "        coded_ch = ch\n",
    "        if ch in mapPair:\n",
    "            coded_ch = mapPair[ch]\n",
    "        coded_msg.append(coded_ch)\n",
    "        \n",
    "    return ''.join(coded_msg)\n",
    "\n",
    "encoded_message = encode_message(original_message)\n",
    "\n",
    "def decode_message(msg, word_map):\n",
    "    \n",
    "    decoded_msg = []\n",
    "    for ch in msg:\n",
    "        decoded_ch = ch\n",
    "        if ch in word_map:\n",
    "            decoded_ch = word_map[ch]\n",
    "        decoded_msg.append(decoded_ch)\n",
    "    return ''.join(decoded_msg)\n",
    "\n",
    "#initialize\n",
    "dna_pool = []\n",
    "for _ in range(20):\n",
    "    dna = list(string.ascii_lowercase)\n",
    "    random.shuffle(dna)\n",
    "    dna_pool.append(dna)\n",
    "    \n",
    "#evolve algorithm\n",
    "def evolve_offspring(dna_pool, n_children):\n",
    "    offspring=[]\n",
    "    \n",
    "    for dna in dna_pool:\n",
    "        for _ in range(n_children):\n",
    "            copy = dna.copy()\n",
    "            j = np.random.randint(len(copy))\n",
    "            k = np.random.randint(len(copy))\n",
    "            \n",
    "            temp = copy[j]\n",
    "            copy[j] = copy[k]\n",
    "            copy[k] = temp\n",
    "            offspring.append(copy)\n",
    "            \n",
    "        return offspring + dna_pool\n",
    "\n",
    "num_iters = 1000\n",
    "scores = np.zeros(num_iters)\n",
    "best_dna = None\n",
    "best_map = None\n",
    "best_score = float('-inf')\n",
    "for i in range(num_iters):\n",
    "    if i > 0:\n",
    "        \n",
    "        #get offspring from current dna pool\n",
    "        dna_pool = evolve_offspring(dna_pool, 3)\n",
    "        \n",
    "    #calculate score for each dna\n",
    "    dna2score = {}\n",
    "    for dna in dna_pool:\n",
    "        #populate map\n",
    "        current_map = {}\n",
    "        for k, v in zip(letters1, dna):\n",
    "            current_map[k] = v\n",
    "            \n",
    "        decoded_message = decode_message(encoded_message, current_map)\n",
    "        score = get_sequence_prob(decoded_message)\n",
    "        \n",
    "        dna2score[''.join(dna)] = score\n",
    "        \n",
    "        if score > best_score:\n",
    "            best_dna = dna\n",
    "            best_map = current_map\n",
    "            best_score = score\n",
    "            \n",
    "    scores[i] = np.mean(list(dna2score.values()))\n",
    "    \n",
    "    sorted_dna = sorted(dna2score.items(), key = lambda x: x[1], reverse=True)\n",
    "    dna_pool = [list(k) for k, v in sorted_dna[:5]]\n",
    "    \n",
    "    if i %200 ==0:\n",
    "        print(\"iter:\", i, \"score:\", scores[i], \"best so far:\", best_score)"
   ]
  },
  {
   "cell_type": "code",
   "execution_count": 41,
   "metadata": {},
   "outputs": [
    {
     "name": "stdout",
     "output_type": "stream",
     "text": [
      "LL of decoded message: -256.9712581843353\n",
      "LL of true message: -265.4961359800376\n",
      "true: a, pred: s\n",
      "true: b, pred: c\n",
      "true: c, pred: n\n",
      "true: d, pred: b\n",
      "true: e, pred: r\n",
      "true: f, pred: d\n",
      "true: g, pred: e\n",
      "true: i, pred: a\n",
      "true: j, pred: v\n",
      "true: k, pred: z\n",
      "true: l, pred: o\n",
      "true: m, pred: f\n",
      "true: n, pred: m\n",
      "true: o, pred: i\n",
      "true: p, pred: g\n",
      "true: q, pred: u\n",
      "true: r, pred: p\n",
      "true: s, pred: l\n",
      "true: u, pred: j\n",
      "true: v, pred: k\n",
      "true: x, pred: q\n",
      "true: y, pred: x\n",
      "true: z, pred: y\n"
     ]
    }
   ],
   "source": [
    "#use best score\n",
    "decoded_message = decode_message(encoded_message, best_map)\n",
    "\n",
    "print(\"LL of decoded message:\", get_sequence_prob(decoded_message))\n",
    "print(\"LL of true message:\", get_sequence_prob(regex.sub(' ', original_message.lower())))\n",
    "\n",
    "for true, v in mapPair.items():\n",
    "    pred = best_map[v]\n",
    "    if true != pred:\n",
    "        print(\"true: %s, pred: %s\" % (true, pred))"
   ]
  },
  {
   "cell_type": "code",
   "execution_count": 44,
   "metadata": {},
   "outputs": [
    {
     "name": "stdout",
     "output_type": "stream",
     "text": [
      "Decoded message:\n",
      " a thrm oijmerb biwm thr ltprrt smb dijmb  sl a rqgrntrb  thst thrpr\n",
      "wsl s frwl am s osmr whanh pjml biwm cx imr wsoo id thr espbrm  a ormt\n",
      "thr iltorpl s hsmb am pjccame biwm thrap hiplrl  smb prnrakrb am\n",
      "rqnhsmer twigrmnr  s eosll id hsod smb hsod  twi daool id lhse ticsnni\n",
      "smb sl fjnh amdipfstaim sl a nijob brlapr scijt fall sborp  ti lsx\n",
      "mithame id hsod s biyrm ithrp grigor am thr mraehcijphiib am whif a\n",
      "wsl mit am thr orslt amtrprltrb  cjt whilr caiepsgharl a wsl nifgroorb\n",
      "ti oaltrm ti\n",
      "\n",
      "True message:\n",
      " I then lounged down the street and found,\n",
      "as I expected, that there was a mews in a lane which runs down\n",
      "by one wall of the garden. I lent the ostlers a hand in rubbing\n",
      "down their horses, and received in exchange twopence, a glass of\n",
      "half-and-half, two fills of shag tobacco, and as much information\n",
      "as I could desire about Miss Adler, to say nothing of half a dozen\n",
      "other people in the neighbourhood in whom I was not in the least\n",
      "interested, but whose biographies I was compelled to listen to.\n",
      "\n"
     ]
    }
   ],
   "source": [
    "# print the final decoded message\n",
    "print(\"Decoded message:\\n\", textwrap.fill(decoded_message))\n",
    "\n",
    "print(\"\\nTrue message:\\n\", original_message)"
   ]
  },
  {
   "cell_type": "code",
   "execution_count": 47,
   "metadata": {},
   "outputs": [
    {
     "data": {
      "image/png": "[encoded data removed]",
      "text/plain": [
       "<Figure size 432x288 with 1 Axes>"
      ]
     },
     "metadata": {
      "needs_background": "light"
     },
     "output_type": "display_data"
    }
   ],
   "source": [
    "plt.plot(scores)\n",
    "plt.show()"
   ]
  },
  {
   "cell_type": "code",
   "execution_count": null,
   "metadata": {},
   "outputs": [],
   "source": []
  }
 ],
 "metadata": {
  "kernelspec": {
   "display_name": "Python 3",
   "language": "python",
   "name": "python3"
  },
  "language_info": {
   "codemirror_mode": {
    "name": "ipython",
    "version": 3
   },
   "file_extension": ".py",
   "mimetype": "text/x-python",
   "name": "python",
   "nbconvert_exporter": "python",
   "pygments_lexer": "ipython3",
   "version": "3.8.5"
  }
 },
 "nbformat": 4,
 "nbformat_minor": 4
}
